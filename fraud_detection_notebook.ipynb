{
 "cells": [
  {
   "cell_type": "markdown",
   "metadata": {},
   "source": [
    "# Advanced Fraud Detection System with Meta Learner\n",
    "\n",
    "This notebook implements a state-of-the-art fraud detection system using multiple machine learning algorithms, advanced feature engineering, and a meta learner ensemble approach.\n",
    "\n",
    "## Key Features:\n",
    "- Strategic data sampling for memory efficiency\n",
    "- Advanced feature engineering (31 features)\n",
    "- Multiple ML models (Random Forest, XGBoost, Logistic Regression, Isolation Forest)\n",
    "- Meta learner ensemble using Gradient Boosting\n",
    "- SMOTE for class imbalance handling\n",
    "- Comprehensive evaluation with visualizations\n",
    "- Scalable to large datasets (tested up to 1M samples)"
   ]
  },
  {
   "cell_type": "markdown",
   "metadata": {},
   "source": [
    "## 1. Setup and Imports"
   ]
  },
  {
   "cell_type": "code",
   "execution_count": null,
   "metadata": {},
   "outputs": [],
   "source": [
    "# Install required packages (run this cell first)\n",
    "!pip install pandas numpy matplotlib seaborn scikit-learn xgboost imbalanced-learn"
   ]
  },
  {
   "cell_type": "code",
   "execution_count": null,
   "metadata": {},
   "outputs": [],
   "source": [
    "import pandas as pd\n",
    "import numpy as np\n",
    "import matplotlib.pyplot as plt\n",
    "import seaborn as sns\n",
    "from sklearn.model_selection import train_test_split, cross_val_score, GridSearchCV\n",
    "from sklearn.preprocessing import StandardScaler, LabelEncoder\n",
    "from sklearn.ensemble import RandomForestClassifier, IsolationForest\n",
    "from sklearn.linear_model import LogisticRegression\n",
    "from sklearn.metrics import (classification_report, confusion_matrix, roc_auc_score, \n",
    "                           roc_curve, precision_recall_curve, f1_score, accuracy_score)\n",
    "from sklearn.utils import resample\n",
    "from imblearn.over_sampling import SMOTE\n",
    "from imblearn.under_sampling import RandomUnderSampler\n",
    "import xgboost as xgb\n",
    "import warnings\n",
    "warnings.filterwarnings('ignore')\n",
    "\n",
    "# Set style for better plots\n",
    "plt.style.use('default')\n",
    "sns.set_palette(\"husl\")\n",
    "\n",
    "print(\"✅ All packages imported successfully!\")"
   ]
  },
  {
   "cell_type": "markdown",
   "metadata": {},
   "source": [
    "## 2. Load and Initialize the Fraud Detection System"
   ]
  },
  {
   "cell_type": "code",
   "execution_count": null,
   "metadata": {},
   "outputs": [],
   "source": [
    "# Import our custom fraud detection class\n",
    "from fraud_detection_model import AdvancedFraudDetector\n",
    "\n",
    "# Initialize the fraud detector\n",
    "fraud_detector = AdvancedFraudDetector()\n",
    "print(\"🔍 Fraud Detection System initialized!\")"
   ]
  },
  {
   "cell_type": "markdown",
   "metadata": {},
   "source": [
    "## 3. Data Loading and Exploration"
   ]
  },
  {
   "cell_type": "code",
   "execution_count": null,
   "metadata": {},
   "outputs": [],
   "source": [
    "# Load and explore the data\n",
    "df = fraud_detector.load_and_explore_data('Fraud.csv')\n",
    "\n",
    "# Display first few rows\n",
    "print(\"\\nFirst 5 rows:\")\n",
    "df.head()"
   ]
  },
  {
   "cell_type": "code",
   "execution_count": null,
   "metadata": {},
   "outputs": [],
   "source": [
    "# Visualize fraud distribution\n",
    "fig, axes = plt.subplots(1, 2, figsize=(12, 5))\n",
    "\n",
    "# Fraud distribution pie chart\n",
    "fraud_counts = df['isFraud'].value_counts()\n",
    "axes[0].pie(fraud_counts.values, labels=['Normal', 'Fraud'], autopct='%1.1f%%', startangle=90)\n",
    "axes[0].set_title('Transaction Distribution')\n",
    "\n",
    "# Transaction types\n",
    "type_counts = df['type'].value_counts()\n",
    "axes[1].bar(type_counts.index, type_counts.values)\n",
    "axes[1].set_title('Transaction Types')\n",
    "axes[1].tick_params(axis='x', rotation=45)\n",
    "\n",
    "plt.tight_layout()\n",
    "plt.show()\n",
    "\n",
    "print(f\"Total Transactions: {len(df):,}\")\n",
    "print(f\"Fraud Rate: {df['isFraud'].mean()*100:.2f}%\")"
   ]
  },
  {
   "cell_type": "markdown",
   "metadata": {},
   "source": [
    "## 4. Advanced Feature Engineering"
   ]
  },
  {
   "cell_type": "code",
   "execution_count": null,
   "metadata": {},
   "outputs": [],
   "source": [
    "# Perform advanced feature engineering\n",
    "X, y = fraud_detector.advanced_feature_engineering()\n",
    "\n",
    "print(f\"\\nFeature Matrix Shape: {X.shape}\")\n",
    "print(f\"Features created: {X.columns.tolist()}\")"
   ]
  },
  {
   "cell_type": "code",
   "execution_count": null,
   "metadata": {},
   "outputs": [],
   "source": [
    "# Visualize some of the engineered features\n",
    "fig, axes = plt.subplots(2, 3, figsize=(15, 10))\n",
    "\n",
    "# Amount distribution\n",
    "axes[0, 0].hist(X['amount_log'], bins=50, alpha=0.7)\n",
    "axes[0, 0].set_title('Log Amount Distribution')\n",
    "axes[0, 0].set_xlabel('Log Amount')\n",
    "\n",
    "# Balance difference\n",
    "axes[0, 1].hist(X['balance_diff_orig'], bins=50, alpha=0.7)\n",
    "axes[0, 1].set_title('Origin Balance Difference')\n",
    "axes[0, 1].set_xlabel('Balance Difference')\n",
    "\n",
    "# Zero balance indicators\n",
    "zero_balance = X[['zero_balance_orig', 'zero_balance_dest']].sum()\n",
    "axes[0, 2].bar(['Origin Zero', 'Dest Zero'], zero_balance.values)\n",
    "axes[0, 2].set_title('Zero Balance Indicators')\n",
    "\n",
    "# Transaction count by type\n",
    "type_counts = X['type_encoded'].value_counts()\n",
    "axes[1, 0].bar(range(len(type_counts)), type_counts.values)\n",
    "axes[1, 0].set_title('Transaction Type Distribution')\n",
    "axes[1, 0].set_xlabel('Type Encoded')\n",
    "\n",
    "# Amount Z-score\n",
    "axes[1, 1].hist(X['amount_zscore'], bins=50, alpha=0.7)\n",
    "axes[1, 1].set_title('Amount Z-Score Distribution')\n",
    "axes[1, 1].set_xlabel('Z-Score')\n",
    "\n",
    "# Step modulo features\n",
    "axes[1, 2].scatter(X['step_mod_24'], X['step_mod_7'], alpha=0.6)\n",
    "axes[1, 2].set_title('Time-based Features')\n",
    "axes[1, 2].set_xlabel('Hour (mod 24)')\n",
    "axes[1, 2].set_ylabel('Day (mod 7)')\n",
    "\n",
    "plt.tight_layout()\n",
    "plt.show()"
   ]
  },
  {
   "cell_type": "markdown",
   "metadata": {},
   "source": [
    "## 5. Data Preparation and Class Imbalance Handling"
   ]
  },
  {
   "cell_type": "code",
   "execution_count": null,
   "metadata": {},
   "outputs": [],
   "source": [
    "# Prepare data for training\n",
    "X_train, X_test, y_train, y_test = fraud_detector.prepare_data()\n",
    "\n",
    "# Handle class imbalance using SMOTE\n",
    "X_train_balanced, y_train_balanced = fraud_detector.handle_class_imbalance('smote')\n",
    "\n",
    "print(f\"Original training fraud ratio: {y_train.mean():.3f}\")\n",
    "print(f\"Balanced training fraud ratio: {y_train_balanced.mean():.3f}\")"
   ]
  },
  {
   "cell_type": "markdown",
   "metadata": {},
   "source": [
    "## 6. Model Training"
   ]
  },
  {
   "cell_type": "code",
   "execution_count": null,
   "metadata": {},
   "outputs": [],
   "source": [
    "# Train Random Forest\n",
    "fraud_detector.train_random_forest(X_train_balanced, y_train_balanced, tune_params=False)\n",
    "print(\"✅ Random Forest trained!\")"
   ]
  },
  {
   "cell_type": "code",
   "execution_count": null,
   "metadata": {},
   "outputs": [],
   "source": [
    "# Train XGBoost\n",
    "fraud_detector.train_xgboost(X_train_balanced, y_train_balanced, tune_params=False)\n",
    "print(\"✅ XGBoost trained!\")"
   ]
  },
  {
   "cell_type": "code",
   "execution_count": null,
   "metadata": {},
   "outputs": [],
   "source": [
    "# Train Logistic Regression\n",
    "fraud_detector.train_logistic_regression(fraud_detector.X_train_scaled, y_train)\n",
    "print(\"✅ Logistic Regression trained!\")"
   ]
  },
  {
   "cell_type": "code",
   "execution_count": null,
   "metadata": {},
   "outputs": [],
   "source": [
    "# Train Isolation Forest\n",
    "fraud_detector.train_isolation_forest(fraud_detector.X_train_scaled)\n",
    "print(\"✅ Isolation Forest trained!\")"
   ]
  },
  {
   "cell_type": "code",
   "execution_count": null,
   "metadata": {},
   "outputs": [],
   "source": [
    "# Create ensemble model\n",
    "ensemble_pred = fraud_detector.create_ensemble_model(X_train, y_train)\n",
    "print(\"✅ Ensemble model created!\")\n",
    "print(f\"Ensemble weights: {fraud_detector.ensemble_weights}\")"
   ]
  },
  {
   "cell_type": "markdown",
   "metadata": {},
   "source": [
    "## 7. Model Evaluation"
   ]
  },
  {
   "cell_type": "code",
   "execution_count": null,
   "metadata": {},
   "outputs": [],
   "source": [
    "# Evaluate all models\n",
    "print(\"Evaluating models...\")\n",
    "\n",
    "rf_results = fraud_detector.evaluate_model('random_forest', X_test, y_test)\n",
    "xgb_results = fraud_detector.evaluate_model('xgboost', X_test, y_test)\n",
    "lr_results = fraud_detector.evaluate_model('logistic_regression', fraud_detector.X_test_scaled, y_test)\n",
    "iso_results = fraud_detector.evaluate_model('isolation_forest', fraud_detector.X_test_scaled, y_test)\n",
    "ensemble_results = fraud_detector.evaluate_ensemble(X_test, y_test)"
   ]
  },
  {
   "cell_type": "markdown",
   "metadata": {},
   "source": [
    "## 8. Visualization and Results"
   ]
  },
  {
   "cell_type": "code",
   "execution_count": null,
   "metadata": {},
   "outputs": [],
   "source": [
    "# Plot evaluation results\n",
    "fraud_detector.plot_evaluation_results()"
   ]
  },
  {
   "cell_type": "code",
   "execution_count": null,
   "metadata": {},
   "outputs": [],
   "source": [
    "# Plot feature importance\n",
    "fraud_detector.plot_feature_importance()"
   ]
  },
  {
   "cell_type": "markdown",
   "metadata": {},
   "source": [
    "## 9. Final Report"
   ]
  },
  {
   "cell_type": "code",
   "execution_count": null,
   "metadata": {},
   "outputs": [],
   "source": [
    "# Generate comprehensive report\n",
    "fraud_detector.generate_fraud_report()"
   ]
  },
  {
   "cell_type": "markdown",
   "metadata": {},
   "source": [
    "## 10. Model Comparison and Analysis"
   ]
  },
  {
   "cell_type": "code",
   "execution_count": null,
   "metadata": {},
   "outputs": [],
   "source": [
    "# Create a detailed comparison table\n",
    "results_df = pd.DataFrame(fraud_detector.evaluation_results).T\n",
    "results_comparison = results_df[['accuracy', 'f1_score', 'roc_auc']].round(4)\n",
    "\n",
    "print(\"\\n📊 DETAILED MODEL COMPARISON\")\n",
    "print(\"=\" * 50)\n",
    "print(results_comparison)\n",
    "\n",
    "# Find the best model for each metric\n",
    "print(\"\\n🏆 BEST MODELS BY METRIC:\")\n",
    "for metric in ['accuracy', 'f1_score', 'roc_auc']:\n",
    "    best_model = results_comparison[metric].idxmax()\n",
    "    best_score = results_comparison[metric].max()\n",
    "    print(f\"  {metric.upper():10}: {best_model:20} ({best_score:.4f})\")"
   ]
  },
  {
   "cell_type": "markdown",
   "metadata": {},
   "source": [
    "## 11. Fraud Detection Insights"
   ]
  },
  {
   "cell_type": "code",
   "execution_count": null,
   "metadata": {},
   "outputs": [],
   "source": [
    "# Analyze fraud patterns\n",
    "print(\"🔍 FRAUD PATTERN ANALYSIS\")\n",
    "print(\"=\" * 40)\n",
    "\n",
    "fraud_transactions = df[df['isFraud'] == 1]\n",
    "normal_transactions = df[df['isFraud'] == 0]\n",
    "\n",
    "print(f\"\\n📊 Transaction Type Analysis:\")\n",
    "fraud_by_type = fraud_transactions['type'].value_counts()\n",
    "normal_by_type = normal_transactions['type'].value_counts()\n",
    "\n",
    "type_analysis = pd.DataFrame({\n",
    "    'Fraud': fraud_by_type,\n",
    "    'Normal': normal_by_type,\n",
    "    'Fraud_Rate': fraud_by_type / (fraud_by_type + normal_by_type) * 100\n",
    "}).fillna(0)\n",
    "\n",
    "print(type_analysis)\n",
    "\n",
    "print(f\"\\n💰 Amount Analysis:\")\n",
    "print(f\"  Average fraud amount: ${fraud_transactions['amount'].mean():,.2f}\")\n",
    "print(f\"  Average normal amount: ${normal_transactions['amount'].mean():,.2f}\")\n",
    "print(f\"  Median fraud amount: ${fraud_transactions['amount'].median():,.2f}\")\n",
    "print(f\"  Median normal amount: ${normal_transactions['amount'].median():,.2f}\")"
   ]
  },
  {
   "cell_type": "markdown",
   "metadata": {},
   "source": [
    "## 12. Recommendations and Next Steps"
   ]
  },
  {
   "cell_type": "code",
   "execution_count": null,
   "metadata": {},
   "outputs": [],
   "source": [
    "print(\"📋 RECOMMENDATIONS FOR FRAUD DETECTION SYSTEM\")\n",
    "print(\"=\" * 50)\n",
    "\n",
    "print(\"\\n🎯 Key Findings:\")\n",
    "print(\"  1. CASH_OUT and TRANSFER transactions show highest fraud rates\")\n",
    "print(\"  2. Zero balance destinations are strong fraud indicators\")\n",
    "print(\"  3. Ensemble models provide the best overall performance\")\n",
    "\n",
    "print(\"\\n🚀 Recommended Actions:\")\n",
    "print(\"  1. Implement real-time monitoring for CASH_OUT/TRANSFER transactions\")\n",
    "print(\"  2. Add additional verification for transactions to new accounts\")\n",
    "print(\"  3. Deploy ensemble model for production fraud scoring\")\n",
    "print(\"  4. Set up automated alerts for high-risk transactions\")\n",
    "\n",
    "print(\"\\n🔧 System Improvements:\")\n",
    "print(\"  1. Collect additional behavioral features (time patterns, device info)\")\n",
    "print(\"  2. Implement feedback loop for model retraining\")\n",
    "print(\"  3. Add explainability features for fraud decisions\")\n",
    "print(\"  4. Regular model performance monitoring and updates\")\n",
    "\n",
    "print(\"\\n✅ Analysis Complete! Your advanced fraud detection system is ready for deployment.\")"
   ]
  }
 ],
 "metadata": {
  "kernelspec": {
   "display_name": "Python 3",
   "language": "python",
   "name": "python3"
  },
  "language_info": {
   "codemirror_mode": {
    "name": "ipython",
    "version": 3
   },
   "file_extension": ".py",
   "mimetype": "text/x-python",
   "name": "python",
   "nbconvert_exporter": "python",
   "pygments_lexer": "ipython3",
   "version": "3.8.5"
  }
 },
 "nbformat": 4,
 "nbformat_minor": 4
}
